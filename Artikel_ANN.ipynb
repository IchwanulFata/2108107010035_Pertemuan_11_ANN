{
 "cells": [
  {
   "cell_type": "markdown",
   "metadata": {},
   "source": [
    "# Application Deep Learning Neural Network"
   ]
  },
  {
   "cell_type": "markdown",
   "metadata": {},
   "source": [
    "## 1. Import Library"
   ]
  },
  {
   "cell_type": "code",
   "execution_count": 1,
   "metadata": {},
   "outputs": [],
   "source": [
    "# Mengimpor library yang diperlukan\n",
    "import numpy as np\n",
    "import matplotlib.pyplot as plt\n",
    "import pandas as pd"
   ]
  },
  {
   "cell_type": "markdown",
   "metadata": {},
   "source": [
    "## 2. Import Data"
   ]
  },
  {
   "cell_type": "code",
   "execution_count": 2,
   "metadata": {},
   "outputs": [],
   "source": [
    "# Mengimpor dataset\n",
    "dataset = pd.read_csv('https://docs.google.com/spreadsheets/d/e/2PACX-1vTuxjFKQFE3T6g66Zl56hnQ0-rmCcPvb4Rz08BLyFIJA0naAdYQBR7yi9qN7yNDzeA996namZkX0h5i/pub?gid=942722763&single=true&output=csv')"
   ]
  },
  {
   "cell_type": "markdown",
   "metadata": {},
   "source": [
    "## 3. Memilih Variabel X dan Y\n",
    "Variabel X merupakan feature/atribut sedangkan variabel y adalah label dari data tersebut"
   ]
  },
  {
   "cell_type": "code",
   "execution_count": 3,
   "metadata": {},
   "outputs": [],
   "source": [
    "X = dataset.iloc[:, 3:13].values\n",
    "y = dataset.iloc[:, 13].values"
   ]
  },
  {
   "cell_type": "markdown",
   "metadata": {},
   "source": [
    "## 5. Encoding Data Kategorikal Menggunakan Label Encoder"
   ]
  },
  {
   "cell_type": "code",
   "execution_count": 4,
   "metadata": {},
   "outputs": [],
   "source": [
    "# Mengonversi data kategori jenis kelamin menjadi numerik\n",
    "from sklearn.preprocessing import LabelEncoder, OneHotEncoder\n",
    "from sklearn.compose import ColumnTransformer\n",
    "labelencoder = LabelEncoder()\n",
    "X[:, 2] = labelencoder.fit_transform(X[:, 2])"
   ]
  },
  {
   "cell_type": "code",
   "execution_count": 5,
   "metadata": {},
   "outputs": [
    {
     "name": "stderr",
     "output_type": "stream",
     "text": [
      "C:\\Users\\A S U S\\AppData\\Local\\Temp\\ipykernel_21340\\3806263919.py:4: DeprecationWarning: `np.float` is a deprecated alias for the builtin `float`. To silence this warning, use `float` by itself. Doing this will not modify any behavior and is safe. If you specifically wanted the numpy scalar type, use `np.float64` here.\n",
      "Deprecated in NumPy 1.20; for more details and guidance: https://numpy.org/devdocs/release/1.20.0-notes.html#deprecations\n",
      "  X = np.array(columnTransformer.fit_transform(X), dtype = np.float)\n"
     ]
    }
   ],
   "source": [
    "# Membuat dummy variable untuk kolom negara\n",
    "# apa itu dummy variabel? baca di penjelasan\n",
    "columnTransformer = ColumnTransformer([('encoder', OneHotEncoder(), [1])], remainder='passthrough')\n",
    "X = np.array(columnTransformer.fit_transform(X), dtype = np.float)"
   ]
  },
  {
   "cell_type": "code",
   "execution_count": 6,
   "metadata": {},
   "outputs": [],
   "source": [
    "# Menghilangkan 1 dummy variabel di kolom negara\n",
    "X = X[:, 1:]"
   ]
  },
  {
   "cell_type": "markdown",
   "metadata": {},
   "source": [
    "## 6. Splitting Data"
   ]
  },
  {
   "cell_type": "code",
   "execution_count": 7,
   "metadata": {},
   "outputs": [],
   "source": [
    "# Membagi data ke test dan training set\n",
    "from sklearn.model_selection import train_test_split\n",
    "X_train, X_test, y_train, y_test = train_test_split(X, y, test_size = 0.2, random_state = 0)"
   ]
  },
  {
   "cell_type": "markdown",
   "metadata": {},
   "source": [
    "## 7. Featue Scaling\n",
    "Scaling dilakukan menggunakan algoritma standard scaler"
   ]
  },
  {
   "cell_type": "code",
   "execution_count": 8,
   "metadata": {},
   "outputs": [],
   "source": [
    "# Feature Scaling\n",
    "from sklearn.preprocessing import StandardScaler\n",
    "sc = StandardScaler()\n",
    "X_train = sc.fit_transform(X_train)\n",
    "X_test = sc.transform(X_test)"
   ]
  },
  {
   "cell_type": "markdown",
   "metadata": {},
   "source": [
    "## 8. Inisialisasi Model ANN"
   ]
  },
  {
   "cell_type": "code",
   "execution_count": 9,
   "metadata": {},
   "outputs": [],
   "source": [
    "# Mengimpor library Keras dan turunannya\n",
    "# Sekarang menggunakan TensorFlow 2.0\n",
    "from tensorflow.keras.models import Sequential\n",
    "from tensorflow.keras.layers import Dense\n",
    "# Inisialisasi ANN\n",
    "MesinKlasifikasi = Sequential()\n",
    "# Menambah input layer dan hidden layer pertama\n",
    "MesinKlasifikasi.add(Dense(units = 6, kernel_initializer = 'uniform', activation = 'relu', input_dim = 11))\n",
    "# Menambah hidden layer kedua\n",
    "MesinKlasifikasi.add(Dense(units = 6, kernel_initializer = 'uniform', activation = 'relu'))\n",
    "# Menambah output layer\n",
    "MesinKlasifikasi.add(Dense(units = 1, kernel_initializer = 'uniform', activation = 'sigmoid'))"
   ]
  },
  {
   "cell_type": "markdown",
   "metadata": {},
   "source": [
    "## 9. Training Model ANN"
   ]
  },
  {
   "cell_type": "code",
   "execution_count": 10,
   "metadata": {},
   "outputs": [
    {
     "name": "stdout",
     "output_type": "stream",
     "text": [
      "Epoch 1/100\n",
      "800/800 [==============================] - 2s 1ms/step - loss: 0.4878 - accuracy: 0.7959\n",
      "Epoch 2/100\n",
      "800/800 [==============================] - 1s 664us/step - loss: 0.4294 - accuracy: 0.7960\n",
      "Epoch 3/100\n",
      "800/800 [==============================] - 1s 675us/step - loss: 0.4249 - accuracy: 0.7960\n",
      "Epoch 4/100\n",
      "800/800 [==============================] - 1s 739us/step - loss: 0.4205 - accuracy: 0.8115\n",
      "Epoch 5/100\n",
      "800/800 [==============================] - 1s 2ms/step - loss: 0.4173 - accuracy: 0.8260\n",
      "Epoch 6/100\n",
      "800/800 [==============================] - 1s 1ms/step - loss: 0.4154 - accuracy: 0.8278\n",
      "Epoch 7/100\n",
      "800/800 [==============================] - 1s 988us/step - loss: 0.4131 - accuracy: 0.8307\n",
      "Epoch 8/100\n",
      "800/800 [==============================] - 1s 1ms/step - loss: 0.4100 - accuracy: 0.8321\n",
      "Epoch 9/100\n",
      "800/800 [==============================] - 1s 1ms/step - loss: 0.4076 - accuracy: 0.8338\n",
      "Epoch 10/100\n",
      "800/800 [==============================] - 1s 902us/step - loss: 0.4061 - accuracy: 0.8324\n",
      "Epoch 11/100\n",
      "800/800 [==============================] - 1s 1ms/step - loss: 0.4042 - accuracy: 0.8346\n",
      "Epoch 12/100\n",
      "800/800 [==============================] - 1s 1ms/step - loss: 0.4028 - accuracy: 0.8350\n",
      "Epoch 13/100\n",
      "800/800 [==============================] - 1s 981us/step - loss: 0.4017 - accuracy: 0.8346\n",
      "Epoch 14/100\n",
      "800/800 [==============================] - 1s 1ms/step - loss: 0.4012 - accuracy: 0.8357\n",
      "Epoch 15/100\n",
      "800/800 [==============================] - 1s 1ms/step - loss: 0.4008 - accuracy: 0.8357\n",
      "Epoch 16/100\n",
      "800/800 [==============================] - 1s 2ms/step - loss: 0.4000 - accuracy: 0.8353\n",
      "Epoch 17/100\n",
      "800/800 [==============================] - 1s 955us/step - loss: 0.3994 - accuracy: 0.8346\n",
      "Epoch 18/100\n",
      "800/800 [==============================] - 1s 990us/step - loss: 0.3993 - accuracy: 0.8357\n",
      "Epoch 19/100\n",
      "800/800 [==============================] - 1s 1ms/step - loss: 0.3986 - accuracy: 0.8347\n",
      "Epoch 20/100\n",
      "800/800 [==============================] - 1s 1ms/step - loss: 0.3984 - accuracy: 0.8355\n",
      "Epoch 21/100\n",
      "800/800 [==============================] - 1s 1ms/step - loss: 0.3980 - accuracy: 0.8354\n",
      "Epoch 22/100\n",
      "800/800 [==============================] - 1s 1ms/step - loss: 0.3979 - accuracy: 0.8350\n",
      "Epoch 23/100\n",
      "800/800 [==============================] - 1s 1ms/step - loss: 0.3979 - accuracy: 0.8350\n",
      "Epoch 24/100\n",
      "800/800 [==============================] - 1s 1ms/step - loss: 0.3975 - accuracy: 0.8355\n",
      "Epoch 25/100\n",
      "800/800 [==============================] - 1s 1ms/step - loss: 0.3975 - accuracy: 0.8360\n",
      "Epoch 26/100\n",
      "800/800 [==============================] - 1s 1ms/step - loss: 0.3974 - accuracy: 0.8372\n",
      "Epoch 27/100\n",
      "800/800 [==============================] - 1s 1ms/step - loss: 0.3970 - accuracy: 0.8366\n",
      "Epoch 28/100\n",
      "800/800 [==============================] - 1s 1ms/step - loss: 0.3969 - accuracy: 0.8346\n",
      "Epoch 29/100\n",
      "800/800 [==============================] - 1s 1ms/step - loss: 0.3960 - accuracy: 0.8365\n",
      "Epoch 30/100\n",
      "800/800 [==============================] - 1s 1ms/step - loss: 0.3959 - accuracy: 0.8367\n",
      "Epoch 31/100\n",
      "800/800 [==============================] - 1s 1ms/step - loss: 0.3961 - accuracy: 0.8359\n",
      "Epoch 32/100\n",
      "800/800 [==============================] - 1s 1ms/step - loss: 0.3958 - accuracy: 0.8366\n",
      "Epoch 33/100\n",
      "800/800 [==============================] - 1s 1ms/step - loss: 0.3962 - accuracy: 0.8356\n",
      "Epoch 34/100\n",
      "800/800 [==============================] - 1s 2ms/step - loss: 0.3965 - accuracy: 0.8365\n",
      "Epoch 35/100\n",
      "800/800 [==============================] - 1s 2ms/step - loss: 0.3958 - accuracy: 0.8364\n",
      "Epoch 36/100\n",
      "800/800 [==============================] - 1s 2ms/step - loss: 0.3957 - accuracy: 0.8363\n",
      "Epoch 37/100\n",
      "800/800 [==============================] - 1s 2ms/step - loss: 0.3957 - accuracy: 0.8381\n",
      "Epoch 38/100\n",
      "800/800 [==============================] - 1s 2ms/step - loss: 0.3952 - accuracy: 0.8347\n",
      "Epoch 39/100\n",
      "800/800 [==============================] - 1s 2ms/step - loss: 0.3952 - accuracy: 0.8366\n",
      "Epoch 40/100\n",
      "800/800 [==============================] - 1s 2ms/step - loss: 0.3954 - accuracy: 0.8366\n",
      "Epoch 41/100\n",
      "800/800 [==============================] - 3s 4ms/step - loss: 0.3956 - accuracy: 0.8367\n",
      "Epoch 42/100\n",
      "800/800 [==============================] - 2s 2ms/step - loss: 0.3953 - accuracy: 0.8363\n",
      "Epoch 43/100\n",
      "800/800 [==============================] - 2s 3ms/step - loss: 0.3953 - accuracy: 0.8350\n",
      "Epoch 44/100\n",
      "800/800 [==============================] - 2s 2ms/step - loss: 0.3945 - accuracy: 0.8360\n",
      "Epoch 45/100\n",
      "800/800 [==============================] - 1s 2ms/step - loss: 0.3957 - accuracy: 0.8371\n",
      "Epoch 46/100\n",
      "800/800 [==============================] - 1s 1ms/step - loss: 0.3952 - accuracy: 0.8357\n",
      "Epoch 47/100\n",
      "800/800 [==============================] - 1s 1ms/step - loss: 0.3949 - accuracy: 0.8367\n",
      "Epoch 48/100\n",
      "800/800 [==============================] - 1s 1ms/step - loss: 0.3954 - accuracy: 0.8359\n",
      "Epoch 49/100\n",
      "800/800 [==============================] - 1s 922us/step - loss: 0.3949 - accuracy: 0.8369\n",
      "Epoch 50/100\n",
      "800/800 [==============================] - 1s 913us/step - loss: 0.3948 - accuracy: 0.8361\n",
      "Epoch 51/100\n",
      "800/800 [==============================] - 1s 1ms/step - loss: 0.3950 - accuracy: 0.8354\n",
      "Epoch 52/100\n",
      "800/800 [==============================] - 1s 1ms/step - loss: 0.3949 - accuracy: 0.8357\n",
      "Epoch 53/100\n",
      "800/800 [==============================] - 4s 6ms/step - loss: 0.3951 - accuracy: 0.8360\n",
      "Epoch 54/100\n",
      "800/800 [==============================] - 3s 4ms/step - loss: 0.3947 - accuracy: 0.8369\n",
      "Epoch 55/100\n",
      "800/800 [==============================] - 3s 4ms/step - loss: 0.3945 - accuracy: 0.8369\n",
      "Epoch 56/100\n",
      "800/800 [==============================] - 2s 3ms/step - loss: 0.3945 - accuracy: 0.8366\n",
      "Epoch 57/100\n",
      "800/800 [==============================] - 2s 2ms/step - loss: 0.3948 - accuracy: 0.8380\n",
      "Epoch 58/100\n",
      "800/800 [==============================] - 1s 2ms/step - loss: 0.3945 - accuracy: 0.8369\n",
      "Epoch 59/100\n",
      "800/800 [==============================] - 1s 2ms/step - loss: 0.3947 - accuracy: 0.8357\n",
      "Epoch 60/100\n",
      "800/800 [==============================] - 1s 2ms/step - loss: 0.3946 - accuracy: 0.8360\n",
      "Epoch 61/100\n",
      "800/800 [==============================] - 1s 2ms/step - loss: 0.3942 - accuracy: 0.8370\n",
      "Epoch 62/100\n",
      "800/800 [==============================] - 1s 2ms/step - loss: 0.3937 - accuracy: 0.8374\n",
      "Epoch 63/100\n",
      "800/800 [==============================] - 1s 1ms/step - loss: 0.3943 - accuracy: 0.8375\n",
      "Epoch 64/100\n",
      "800/800 [==============================] - 1s 1ms/step - loss: 0.3943 - accuracy: 0.8374\n",
      "Epoch 65/100\n",
      "800/800 [==============================] - 1s 2ms/step - loss: 0.3940 - accuracy: 0.8361\n",
      "Epoch 66/100\n",
      "800/800 [==============================] - 1s 2ms/step - loss: 0.3940 - accuracy: 0.8364\n",
      "Epoch 67/100\n",
      "800/800 [==============================] - 2s 2ms/step - loss: 0.3937 - accuracy: 0.8353\n",
      "Epoch 68/100\n",
      "800/800 [==============================] - 1s 1ms/step - loss: 0.3939 - accuracy: 0.8371\n",
      "Epoch 69/100\n",
      "800/800 [==============================] - 1s 2ms/step - loss: 0.3936 - accuracy: 0.8363\n",
      "Epoch 70/100\n",
      "800/800 [==============================] - 1s 1ms/step - loss: 0.3940 - accuracy: 0.8366\n",
      "Epoch 71/100\n",
      "800/800 [==============================] - 1s 2ms/step - loss: 0.3942 - accuracy: 0.8370\n",
      "Epoch 72/100\n",
      "800/800 [==============================] - 1s 2ms/step - loss: 0.3939 - accuracy: 0.8364\n",
      "Epoch 73/100\n",
      "800/800 [==============================] - 2s 2ms/step - loss: 0.3942 - accuracy: 0.8367\n",
      "Epoch 74/100\n",
      "800/800 [==============================] - 1s 1ms/step - loss: 0.3937 - accuracy: 0.8347\n",
      "Epoch 75/100\n",
      "800/800 [==============================] - 1s 2ms/step - loss: 0.3932 - accuracy: 0.8370\n",
      "Epoch 76/100\n",
      "800/800 [==============================] - 1s 1ms/step - loss: 0.3934 - accuracy: 0.8374\n",
      "Epoch 77/100\n",
      "800/800 [==============================] - 1s 1ms/step - loss: 0.3938 - accuracy: 0.8350\n",
      "Epoch 78/100\n",
      "800/800 [==============================] - 1s 1ms/step - loss: 0.3936 - accuracy: 0.8356\n",
      "Epoch 79/100\n",
      "800/800 [==============================] - 1s 1ms/step - loss: 0.3928 - accuracy: 0.8379\n",
      "Epoch 80/100\n",
      "800/800 [==============================] - 1s 1ms/step - loss: 0.3931 - accuracy: 0.8367\n",
      "Epoch 81/100\n",
      "800/800 [==============================] - 1s 2ms/step - loss: 0.3935 - accuracy: 0.8374\n",
      "Epoch 82/100\n",
      "800/800 [==============================] - 1s 2ms/step - loss: 0.3928 - accuracy: 0.8388\n",
      "Epoch 83/100\n",
      "800/800 [==============================] - 1s 2ms/step - loss: 0.3931 - accuracy: 0.8365\n",
      "Epoch 84/100\n",
      "800/800 [==============================] - 1s 1ms/step - loss: 0.3925 - accuracy: 0.8374\n",
      "Epoch 85/100\n",
      "800/800 [==============================] - 1s 2ms/step - loss: 0.3918 - accuracy: 0.8380\n",
      "Epoch 86/100\n",
      "800/800 [==============================] - 1s 1ms/step - loss: 0.3917 - accuracy: 0.8382\n",
      "Epoch 87/100\n",
      "800/800 [==============================] - 1s 2ms/step - loss: 0.3909 - accuracy: 0.8367\n",
      "Epoch 88/100\n",
      "800/800 [==============================] - 1s 2ms/step - loss: 0.3909 - accuracy: 0.8384\n",
      "Epoch 89/100\n",
      "800/800 [==============================] - 1s 2ms/step - loss: 0.3903 - accuracy: 0.8369\n",
      "Epoch 90/100\n",
      "800/800 [==============================] - 1s 2ms/step - loss: 0.3885 - accuracy: 0.8366\n",
      "Epoch 91/100\n",
      "800/800 [==============================] - 1s 2ms/step - loss: 0.3859 - accuracy: 0.8369\n",
      "Epoch 92/100\n",
      "800/800 [==============================] - 1s 1ms/step - loss: 0.3835 - accuracy: 0.8394\n",
      "Epoch 93/100\n",
      "800/800 [==============================] - 1s 2ms/step - loss: 0.3798 - accuracy: 0.8379\n",
      "Epoch 94/100\n",
      "800/800 [==============================] - 1s 2ms/step - loss: 0.3763 - accuracy: 0.8404\n",
      "Epoch 95/100\n",
      "800/800 [==============================] - 1s 2ms/step - loss: 0.3727 - accuracy: 0.8431\n",
      "Epoch 96/100\n",
      "800/800 [==============================] - 1s 2ms/step - loss: 0.3680 - accuracy: 0.8457\n",
      "Epoch 97/100\n",
      "800/800 [==============================] - 1s 2ms/step - loss: 0.3636 - accuracy: 0.8487\n",
      "Epoch 98/100\n",
      "800/800 [==============================] - 1s 2ms/step - loss: 0.3603 - accuracy: 0.8496\n",
      "Epoch 99/100\n",
      "800/800 [==============================] - 1s 2ms/step - loss: 0.3570 - accuracy: 0.8512\n",
      "Epoch 100/100\n",
      "800/800 [==============================] - 1s 1ms/step - loss: 0.3558 - accuracy: 0.8544\n"
     ]
    },
    {
     "data": {
      "text/plain": [
       "<keras.callbacks.History at 0x2631606d900>"
      ]
     },
     "execution_count": 10,
     "metadata": {},
     "output_type": "execute_result"
    }
   ],
   "source": [
    "# Meenjalankan ANN\n",
    "MesinKlasifikasi.compile(optimizer = 'adam', loss = 'binary_crossentropy', metrics = ['accuracy'])\n",
    "# Fitting ANN ke training set\n",
    "MesinKlasifikasi.fit(X_train, y_train, batch_size = 10, epochs = 100)"
   ]
  },
  {
   "cell_type": "markdown",
   "metadata": {},
   "source": [
    "## 10. Testing Model ANN"
   ]
  },
  {
   "cell_type": "code",
   "execution_count": 11,
   "metadata": {},
   "outputs": [
    {
     "name": "stdout",
     "output_type": "stream",
     "text": [
      "63/63 [==============================] - 1s 606us/step\n",
      "[[1502   93]\n",
      " [ 191  214]]\n"
     ]
    }
   ],
   "source": [
    "# Memprediksi hasil test set\n",
    "y_pred = MesinKlasifikasi.predict(X_test)\n",
    "y_pred = (y_pred > 0.5)\n",
    "# Membuat confusion matrix\n",
    "from sklearn.metrics import confusion_matrix\n",
    "cm = confusion_matrix(y_test, y_pred)\n",
    "print(cm)"
   ]
  },
  {
   "cell_type": "code",
   "execution_count": 12,
   "metadata": {},
   "outputs": [
    {
     "name": "stdout",
     "output_type": "stream",
     "text": [
      "              precision    recall  f1-score   support\n",
      "\n",
      "           0       0.89      0.94      0.91      1595\n",
      "           1       0.70      0.53      0.60       405\n",
      "\n",
      "    accuracy                           0.86      2000\n",
      "   macro avg       0.79      0.74      0.76      2000\n",
      "weighted avg       0.85      0.86      0.85      2000\n",
      "\n"
     ]
    }
   ],
   "source": [
    "from sklearn.metrics import classification_report\n",
    "print(classification_report(y_test, y_pred))"
   ]
  }
 ],
 "metadata": {
  "kernelspec": {
   "display_name": ".venv",
   "language": "python",
   "name": "python3"
  },
  "language_info": {
   "codemirror_mode": {
    "name": "ipython",
    "version": 3
   },
   "file_extension": ".py",
   "mimetype": "text/x-python",
   "name": "python",
   "nbconvert_exporter": "python",
   "pygments_lexer": "ipython3",
   "version": "3.10.2"
  }
 },
 "nbformat": 4,
 "nbformat_minor": 2
}
