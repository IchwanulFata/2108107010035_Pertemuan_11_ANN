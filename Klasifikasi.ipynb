{
 "cells": [
  {
   "cell_type": "markdown",
   "metadata": {},
   "source": [
    "# KLASIFIKASI MENGGUNAKAN ANN dan SVM"
   ]
  },
  {
   "cell_type": "markdown",
   "metadata": {},
   "source": [
    "## 1. Import Library\n",
    "Library yang akan diguakan yaitu pandas, numpy, matplotlib, seaborn, scikit-learn dan tensorflow"
   ]
  },
  {
   "cell_type": "code",
   "execution_count": 1,
   "metadata": {},
   "outputs": [],
   "source": [
    "import pandas as pd\n",
    "import numpy as np\n",
    "import matplotlib.pyplot as plt\n",
    "import seaborn as sns\n",
    "from sklearn.preprocessing import MinMaxScaler\n",
    "from sklearn.model_selection import train_test_split\n",
    "from tensorflow.keras.models import Sequential\n",
    "from tensorflow.keras.layers import Dense\n",
    "from sklearn.metrics import confusion_matrix, accuracy_score\n",
    "from sklearn.svm import SVC"
   ]
  },
  {
   "cell_type": "markdown",
   "metadata": {},
   "source": [
    "## 2. Import Data\n",
    "Data akan diimport dari file csv yang telah diupload sebelumnya pada Google Spreadsheet"
   ]
  },
  {
   "cell_type": "code",
   "execution_count": 2,
   "metadata": {},
   "outputs": [],
   "source": [
    "# Import data from CSV file\n",
    "df = pd.read_csv('https://docs.google.com/spreadsheets/d/e/2PACX-1vS3BM12mHjzzSa-Dhv0QVqHrHVEur5JeDKy_gs1JU9N-3Z7LRXD_KczWaqDGjnutjNzLOjLzRwzuFMk/pub?gid=995012296&single=true&output=csv')"
   ]
  },
  {
   "cell_type": "markdown",
   "metadata": {},
   "source": [
    "### >> **Menampilkan 5 data teratas**"
   ]
  },
  {
   "cell_type": "code",
   "execution_count": 3,
   "metadata": {},
   "outputs": [
    {
     "data": {
      "text/html": [
       "<div>\n",
       "<style scoped>\n",
       "    .dataframe tbody tr th:only-of-type {\n",
       "        vertical-align: middle;\n",
       "    }\n",
       "\n",
       "    .dataframe tbody tr th {\n",
       "        vertical-align: top;\n",
       "    }\n",
       "\n",
       "    .dataframe thead th {\n",
       "        text-align: right;\n",
       "    }\n",
       "</style>\n",
       "<table border=\"1\" class=\"dataframe\">\n",
       "  <thead>\n",
       "    <tr style=\"text-align: right;\">\n",
       "      <th></th>\n",
       "      <th>Area</th>\n",
       "      <th>Perimeter</th>\n",
       "      <th>Major_Axis_Length</th>\n",
       "      <th>Minor_Axis_Length</th>\n",
       "      <th>Eccentricity</th>\n",
       "      <th>Convex_Area</th>\n",
       "      <th>Extent</th>\n",
       "      <th>Class</th>\n",
       "    </tr>\n",
       "  </thead>\n",
       "  <tbody>\n",
       "    <tr>\n",
       "      <th>0</th>\n",
       "      <td>15231</td>\n",
       "      <td>525.578979</td>\n",
       "      <td>229.749878</td>\n",
       "      <td>85.093788</td>\n",
       "      <td>0.928882</td>\n",
       "      <td>15617</td>\n",
       "      <td>0.572896</td>\n",
       "      <td>Cammeo</td>\n",
       "    </tr>\n",
       "    <tr>\n",
       "      <th>1</th>\n",
       "      <td>14656</td>\n",
       "      <td>494.311005</td>\n",
       "      <td>206.020065</td>\n",
       "      <td>91.730972</td>\n",
       "      <td>0.895405</td>\n",
       "      <td>15072</td>\n",
       "      <td>0.615436</td>\n",
       "      <td>Cammeo</td>\n",
       "    </tr>\n",
       "    <tr>\n",
       "      <th>2</th>\n",
       "      <td>14634</td>\n",
       "      <td>501.122009</td>\n",
       "      <td>214.106781</td>\n",
       "      <td>87.768288</td>\n",
       "      <td>0.912118</td>\n",
       "      <td>14954</td>\n",
       "      <td>0.693259</td>\n",
       "      <td>Cammeo</td>\n",
       "    </tr>\n",
       "    <tr>\n",
       "      <th>3</th>\n",
       "      <td>13176</td>\n",
       "      <td>458.342987</td>\n",
       "      <td>193.337387</td>\n",
       "      <td>87.448395</td>\n",
       "      <td>0.891861</td>\n",
       "      <td>13368</td>\n",
       "      <td>0.640669</td>\n",
       "      <td>Cammeo</td>\n",
       "    </tr>\n",
       "    <tr>\n",
       "      <th>4</th>\n",
       "      <td>14688</td>\n",
       "      <td>507.166992</td>\n",
       "      <td>211.743378</td>\n",
       "      <td>89.312454</td>\n",
       "      <td>0.906691</td>\n",
       "      <td>15262</td>\n",
       "      <td>0.646024</td>\n",
       "      <td>Cammeo</td>\n",
       "    </tr>\n",
       "  </tbody>\n",
       "</table>\n",
       "</div>"
      ],
      "text/plain": [
       "    Area   Perimeter  Major_Axis_Length  Minor_Axis_Length  Eccentricity  \\\n",
       "0  15231  525.578979         229.749878          85.093788      0.928882   \n",
       "1  14656  494.311005         206.020065          91.730972      0.895405   \n",
       "2  14634  501.122009         214.106781          87.768288      0.912118   \n",
       "3  13176  458.342987         193.337387          87.448395      0.891861   \n",
       "4  14688  507.166992         211.743378          89.312454      0.906691   \n",
       "\n",
       "   Convex_Area    Extent   Class  \n",
       "0        15617  0.572896  Cammeo  \n",
       "1        15072  0.615436  Cammeo  \n",
       "2        14954  0.693259  Cammeo  \n",
       "3        13368  0.640669  Cammeo  \n",
       "4        15262  0.646024  Cammeo  "
      ]
     },
     "execution_count": 3,
     "metadata": {},
     "output_type": "execute_result"
    }
   ],
   "source": [
    "df.head()"
   ]
  },
  {
   "cell_type": "markdown",
   "metadata": {},
   "source": [
    "### >> **Menampilkan Informasi dari dataset**\n",
    "Dataset memiliki 8 kolom dimana terdapat 1 kolom label/class dan 7 kolom fitur/atribut"
   ]
  },
  {
   "cell_type": "code",
   "execution_count": 4,
   "metadata": {},
   "outputs": [
    {
     "name": "stdout",
     "output_type": "stream",
     "text": [
      "<class 'pandas.core.frame.DataFrame'>\n",
      "RangeIndex: 3810 entries, 0 to 3809\n",
      "Data columns (total 8 columns):\n",
      " #   Column             Non-Null Count  Dtype  \n",
      "---  ------             --------------  -----  \n",
      " 0   Area               3810 non-null   int64  \n",
      " 1   Perimeter          3810 non-null   float64\n",
      " 2   Major_Axis_Length  3810 non-null   float64\n",
      " 3   Minor_Axis_Length  3810 non-null   float64\n",
      " 4   Eccentricity       3810 non-null   float64\n",
      " 5   Convex_Area        3810 non-null   int64  \n",
      " 6   Extent             3810 non-null   float64\n",
      " 7   Class              3810 non-null   object \n",
      "dtypes: float64(5), int64(2), object(1)\n",
      "memory usage: 238.2+ KB\n"
     ]
    }
   ],
   "source": [
    "df.info()"
   ]
  },
  {
   "cell_type": "markdown",
   "metadata": {},
   "source": [
    "## 3. Data Preprocessing\n",
    "Berikut adalah tahapan preprocessing data sebelum dilakukan pemodelan menggunakan SVM dan ANN"
   ]
  },
  {
   "cell_type": "markdown",
   "metadata": {},
   "source": [
    "### >> **Mengubah Class menjadi Numerik**\n",
    "Class Cameo akan diubah menjadi 0 dan Class Osmancik akan diubah menjadi 1"
   ]
  },
  {
   "cell_type": "code",
   "execution_count": 5,
   "metadata": {},
   "outputs": [
    {
     "data": {
      "text/plain": [
       "Class\n",
       "1    2180\n",
       "0    1630\n",
       "Name: count, dtype: int64"
      ]
     },
     "execution_count": 5,
     "metadata": {},
     "output_type": "execute_result"
    }
   ],
   "source": [
    "Class = {'Cammeo': 0,'Osmancik': 1}\n",
    "df.Class = [Class[item] for item in df.Class]\n",
    "df.Class.value_counts()"
   ]
  },
  {
   "cell_type": "markdown",
   "metadata": {},
   "source": [
    "Pada dataset tersebut terdapat 2180 data dengan class osmancik dan 1630 data dengan class cammeo"
   ]
  },
  {
   "cell_type": "markdown",
   "metadata": {},
   "source": [
    "### >> **Menampilkan Jumlah Missing Value**"
   ]
  },
  {
   "cell_type": "code",
   "execution_count": 6,
   "metadata": {},
   "outputs": [
    {
     "data": {
      "text/plain": [
       "Area                 0\n",
       "Perimeter            0\n",
       "Major_Axis_Length    0\n",
       "Minor_Axis_Length    0\n",
       "Eccentricity         0\n",
       "Convex_Area          0\n",
       "Extent               0\n",
       "Class                0\n",
       "dtype: int64"
      ]
     },
     "execution_count": 6,
     "metadata": {},
     "output_type": "execute_result"
    }
   ],
   "source": [
    "df.isnull().sum()"
   ]
  },
  {
   "cell_type": "markdown",
   "metadata": {},
   "source": [
    "Pada dataset tersebut tidak terdapat missing value"
   ]
  },
  {
   "cell_type": "markdown",
   "metadata": {},
   "source": [
    "### >> **Menampilkan Jumlah Data Duplicated**"
   ]
  },
  {
   "cell_type": "code",
   "execution_count": 7,
   "metadata": {},
   "outputs": [
    {
     "name": "stdout",
     "output_type": "stream",
     "text": [
      "0\n"
     ]
    }
   ],
   "source": [
    "# Melihat jumlah data duplicated\n",
    "print(df.duplicated().sum())"
   ]
  },
  {
   "cell_type": "markdown",
   "metadata": {},
   "source": [
    "Pada dataset tersebut tidak terdapat data duplicated"
   ]
  },
  {
   "cell_type": "markdown",
   "metadata": {},
   "source": [
    "### >> **Menampilkan Outlier**"
   ]
  },
  {
   "cell_type": "markdown",
   "metadata": {},
   "source": [
    "*Visualisasi Menggunakan Boxplot*"
   ]
  },
  {
   "cell_type": "code",
   "execution_count": 8,
   "metadata": {},
   "outputs": [
    {
     "data": {
      "text/plain": [
       "<Axes: xlabel='Extent'>"
      ]
     },
     "execution_count": 8,
     "metadata": {},
     "output_type": "execute_result"
    },
    {
     "data": {
      "image/png": "[encoded data removed]",
      "text/plain": [
       "<Figure size 1500x1500 with 9 Axes>"
      ]
     },
     "metadata": {},
     "output_type": "display_data"
    }
   ],
   "source": [
    "#VISUALIZING FEATURE DISTRIBUTIONS AND IDENTIFING OUTLIERS USING BOX-PLOTS\n",
    "\n",
    "fig, axes = plt.subplots(3, 3, figsize = (15, 15))\n",
    "\n",
    "sns.boxplot(df, x = 'Area', ax = axes[0, 0])\n",
    "sns.boxplot(df, x = 'Perimeter', ax = axes[0, 1])\n",
    "sns.boxplot(df, x = 'Major_Axis_Length', ax = axes[0, 2])\n",
    "sns.boxplot(df, x = 'Minor_Axis_Length', ax = axes[1, 0])\n",
    "sns.boxplot(df, x = 'Eccentricity', ax = axes[1, 1])\n",
    "sns.boxplot(df, x = 'Convex_Area', ax = axes[1, 2])\n",
    "sns.boxplot(df, x = 'Extent', ax = axes[2, 0])"
   ]
  },
  {
   "cell_type": "markdown",
   "metadata": {},
   "source": [
    "Dari hasil visualisasi boxplot dapat dilihat bahwa pada kolon area, minor_axis_length, eccentricity, dan convex_area terdapat nilai outlier"
   ]
  },
  {
   "cell_type": "markdown",
   "metadata": {},
   "source": [
    "*Menampilkan Jumlah Data Outlier*"
   ]
  },
  {
   "cell_type": "code",
   "execution_count": 9,
   "metadata": {},
   "outputs": [
    {
     "name": "stdout",
     "output_type": "stream",
     "text": [
      "Number of Outlier values with respect to features : \n",
      "\n",
      "Area  :  4\n",
      "Minor_Axis_Length  :  65\n",
      "Eccentricity  :  21\n",
      "Convex_Area  :  3\n"
     ]
    },
    {
     "name": "stderr",
     "output_type": "stream",
     "text": [
      "C:\\Users\\A S U S\\AppData\\Local\\Temp\\ipykernel_21072\\3020116226.py:4: DeprecationWarning: the `interpolation=` argument to percentile was renamed to `method=`, which has additional options.\n",
      "Users of the modes 'nearest', 'lower', 'higher', or 'midpoint' are encouraged to review the method they used. (Deprecated NumPy 1.22)\n",
      "  Q1 = np.percentile(df[feature_name], 25, interpolation = 'midpoint')\n",
      "C:\\Users\\A S U S\\AppData\\Local\\Temp\\ipykernel_21072\\3020116226.py:5: DeprecationWarning: the `interpolation=` argument to percentile was renamed to `method=`, which has additional options.\n",
      "Users of the modes 'nearest', 'lower', 'higher', or 'midpoint' are encouraged to review the method they used. (Deprecated NumPy 1.22)\n",
      "  Q3 = np.percentile(df[feature_name], 75, interpolation = 'midpoint')\n"
     ]
    }
   ],
   "source": [
    "#FUNCTION TO COUNT THE OUTLIERS IN A PARTICULAR FEATURE\n",
    "def count_outliers_using_IQR(feature_name):\n",
    "    # IQR\n",
    "    Q1 = np.percentile(df[feature_name], 25, interpolation = 'midpoint')\n",
    "    Q3 = np.percentile(df[feature_name], 75, interpolation = 'midpoint')\n",
    "\n",
    "    IQR = Q3 - Q1\n",
    "\n",
    "    # Above Upper bound\n",
    "    upper = df[feature_name] >= (Q3 + 1.5 * IQR)\n",
    "    # Below Lower bound\n",
    "    lower = df[feature_name] <= (Q1 - 1.5 * IQR)\n",
    "\n",
    "    print(feature_name, \" : \", len(np.where(upper)[0]) + len(np.where(lower)[0]))\n",
    "    \n",
    "#THE FEATURES WE ARE CONSIDERING FOR OUTLIER REMOVAL\n",
    "features_for_outliers = ['Area', 'Minor_Axis_Length', 'Eccentricity', 'Convex_Area']\n",
    "\n",
    "print(\"Number of Outlier values with respect to features : \\n\")\n",
    "\n",
    "for feature in features_for_outliers:\n",
    "    count_outliers_using_IQR(feature)"
   ]
  },
  {
   "cell_type": "markdown",
   "metadata": {},
   "source": [
    "*Handling Outlier*\n",
    "\n",
    "Nilai outlier akan diganti dengan batas bawah atau batas dari kolom yang terdapat data outlier."
   ]
  },
  {
   "cell_type": "code",
   "execution_count": 10,
   "metadata": {},
   "outputs": [],
   "source": [
    "# handling outliers\n",
    "def handle_outliers_iqr(df, column):\n",
    "    Q1 = df[column].quantile(0.25)\n",
    "    Q3 = df[column].quantile(0.75)\n",
    "    IQR = Q3 - Q1\n",
    "\n",
    "    # Menentukan batas bawah dan batas atas\n",
    "    lower_bound = Q1 - 1.5 * IQR\n",
    "    upper_bound = Q3 + 1.5 * IQR\n",
    "\n",
    "    # Mengganti nilai outlier dengan nilai batas atas atau batas bawah terdekat\n",
    "    df[column] = np.where(df[column] < lower_bound, lower_bound, df[column])\n",
    "    df[column] = np.where(df[column] > upper_bound, upper_bound, df[column])\n",
    "\n",
    "for column in features_for_outliers:\n",
    "    handle_outliers_iqr(df, column)"
   ]
  },
  {
   "cell_type": "markdown",
   "metadata": {},
   "source": [
    "*Visualisasi Setelah Handling Outlier*"
   ]
  },
  {
   "cell_type": "code",
   "execution_count": 11,
   "metadata": {},
   "outputs": [
    {
     "data": {
      "text/plain": [
       "<Axes: xlabel='Convex_Area'>"
      ]
     },
     "execution_count": 11,
     "metadata": {},
     "output_type": "execute_result"
    },
    {
     "data": {
      "image/png": "[encoded data removed]",
      "text/plain": [
       "<Figure size 1500x1500 with 4 Axes>"
      ]
     },
     "metadata": {},
     "output_type": "display_data"
    }
   ],
   "source": [
    "import seaborn as sns\n",
    "#VISUALIZING FEATURE DISTRIBUTIONS AND IDENTIFING OUTLIERS USING BOX-PLOTS\n",
    "\n",
    "fig, axes = plt.subplots(2, 2, figsize = (15, 15))\n",
    "sns.boxplot(df, x = 'Area', ax = axes[0, 0])\n",
    "sns.boxplot(df, x = 'Minor_Axis_Length', ax = axes[0, 1])\n",
    "sns.boxplot(df, x = 'Eccentricity', ax = axes[1, 0])\n",
    "sns.boxplot(df, x = 'Convex_Area', ax = axes[1, 1])\n"
   ]
  },
  {
   "cell_type": "markdown",
   "metadata": {},
   "source": [
    "Dapat dilihat bahwa pada tiap-tiap kolom yang sebelumnya terdapat outlier, sekarang sudah tidak terdapat data outlier"
   ]
  },
  {
   "cell_type": "markdown",
   "metadata": {},
   "source": [
    "### >> **Imbalance Data**\n",
    "Menampilkan dan melakukan handling imbalance data (jumlah data berbeda) pada label/class"
   ]
  },
  {
   "cell_type": "markdown",
   "metadata": {},
   "source": [
    "*Persentase Jumlah Data dari Tiap-Tiap Label*"
   ]
  },
  {
   "cell_type": "code",
   "execution_count": 12,
   "metadata": {},
   "outputs": [
    {
     "data": {
      "text/plain": [
       "Class\n",
       "1    57.217848\n",
       "0    42.782152\n",
       "Name: proportion, dtype: float64"
      ]
     },
     "execution_count": 12,
     "metadata": {},
     "output_type": "execute_result"
    }
   ],
   "source": [
    "df.Class.value_counts(normalize=True) * 100"
   ]
  },
  {
   "cell_type": "code",
   "execution_count": 13,
   "metadata": {},
   "outputs": [
    {
     "data": {
      "text/plain": [
       "<Axes: xlabel='Class'>"
      ]
     },
     "execution_count": 13,
     "metadata": {},
     "output_type": "execute_result"
    },
    {
     "data": {
      "image/png": "[encoded data removed]",
      "text/plain": [
       "<Figure size 640x480 with 1 Axes>"
      ]
     },
     "metadata": {},
     "output_type": "display_data"
    }
   ],
   "source": [
    "# memvisualkan menggunkan bar chart\n",
    "df.Class.value_counts().plot(kind ='bar')"
   ]
  },
  {
   "cell_type": "markdown",
   "metadata": {},
   "source": [
    "*Handling Imbalance Data*\n",
    "Handling akan dilakukan menggunakan metode oversampling yaitu SMOTE"
   ]
  },
  {
   "cell_type": "code",
   "execution_count": 14,
   "metadata": {},
   "outputs": [],
   "source": [
    "from imblearn.over_sampling import SMOTE\n",
    "\n",
    "# Memisahkan fitur (X) dan target (y)\n",
    "X = df.drop('Class', axis=1)\n",
    "y = df['Class']\n",
    "\n",
    "# Inisialisasi SMOTE\n",
    "smote = SMOTE(random_state=42)\n",
    "\n",
    "# Melakukan oversampling pada data\n",
    "X_resampled, y_resampled = smote.fit_resample(X, y)\n",
    "\n",
    "# Membuat DataFrame baru dari hasil oversampling\n",
    "oversampled_data = pd.concat([X_resampled, y_resampled], axis=1)\n",
    "\n",
    "# Mengganti dataset asli dengan hasil oversampling\n",
    "df = oversampled_data"
   ]
  },
  {
   "cell_type": "markdown",
   "metadata": {},
   "source": [
    "*Persentase Jumlah Label Setelah Handling Imbalance Data*"
   ]
  },
  {
   "cell_type": "code",
   "execution_count": 15,
   "metadata": {},
   "outputs": [
    {
     "data": {
      "text/plain": [
       "Class\n",
       "0    50.0\n",
       "1    50.0\n",
       "Name: proportion, dtype: float64"
      ]
     },
     "execution_count": 15,
     "metadata": {},
     "output_type": "execute_result"
    }
   ],
   "source": [
    "df.Class.value_counts(normalize=True) * 100"
   ]
  },
  {
   "cell_type": "code",
   "execution_count": 16,
   "metadata": {},
   "outputs": [
    {
     "data": {
      "text/plain": [
       "<Axes: xlabel='Class'>"
      ]
     },
     "execution_count": 16,
     "metadata": {},
     "output_type": "execute_result"
    },
    {
     "data": {
      "image/png": "[encoded data removed]",
      "text/plain": [
       "<Figure size 640x480 with 1 Axes>"
      ]
     },
     "metadata": {},
     "output_type": "display_data"
    }
   ],
   "source": [
    "# memvisualkan menggunkan bar chart\n",
    "df.Class.value_counts().plot(kind ='bar')"
   ]
  },
  {
   "cell_type": "markdown",
   "metadata": {},
   "source": [
    "### >> **Melihat Statistical Summary dari Data**"
   ]
  },
  {
   "cell_type": "code",
   "execution_count": 17,
   "metadata": {},
   "outputs": [
    {
     "data": {
      "text/html": [
       "<div>\n",
       "<style scoped>\n",
       "    .dataframe tbody tr th:only-of-type {\n",
       "        vertical-align: middle;\n",
       "    }\n",
       "\n",
       "    .dataframe tbody tr th {\n",
       "        vertical-align: top;\n",
       "    }\n",
       "\n",
       "    .dataframe thead th {\n",
       "        text-align: right;\n",
       "    }\n",
       "</style>\n",
       "<table border=\"1\" class=\"dataframe\">\n",
       "  <thead>\n",
       "    <tr style=\"text-align: right;\">\n",
       "      <th></th>\n",
       "      <th>count</th>\n",
       "      <th>mean</th>\n",
       "      <th>std</th>\n",
       "      <th>min</th>\n",
       "      <th>25%</th>\n",
       "      <th>50%</th>\n",
       "      <th>75%</th>\n",
       "      <th>max</th>\n",
       "    </tr>\n",
       "  </thead>\n",
       "  <tbody>\n",
       "    <tr>\n",
       "      <th>Area</th>\n",
       "      <td>4360.0</td>\n",
       "      <td>12867.120585</td>\n",
       "      <td>1764.186450</td>\n",
       "      <td>7551.000000</td>\n",
       "      <td>11507.500000</td>\n",
       "      <td>12692.884071</td>\n",
       "      <td>14269.750000</td>\n",
       "      <td>17819.250000</td>\n",
       "    </tr>\n",
       "    <tr>\n",
       "      <th>Perimeter</th>\n",
       "      <td>4360.0</td>\n",
       "      <td>458.602620</td>\n",
       "      <td>36.052565</td>\n",
       "      <td>359.100006</td>\n",
       "      <td>429.080505</td>\n",
       "      <td>456.431503</td>\n",
       "      <td>488.585998</td>\n",
       "      <td>548.445984</td>\n",
       "    </tr>\n",
       "    <tr>\n",
       "      <th>Major_Axis_Length</th>\n",
       "      <td>4360.0</td>\n",
       "      <td>190.960333</td>\n",
       "      <td>17.631744</td>\n",
       "      <td>145.264465</td>\n",
       "      <td>175.638309</td>\n",
       "      <td>191.064400</td>\n",
       "      <td>205.775114</td>\n",
       "      <td>239.010498</td>\n",
       "    </tr>\n",
       "    <tr>\n",
       "      <th>Minor_Axis_Length</th>\n",
       "      <td>4360.0</td>\n",
       "      <td>86.666289</td>\n",
       "      <td>5.630425</td>\n",
       "      <td>71.613723</td>\n",
       "      <td>83.111773</td>\n",
       "      <td>86.778309</td>\n",
       "      <td>90.553951</td>\n",
       "      <td>101.261649</td>\n",
       "    </tr>\n",
       "    <tr>\n",
       "      <th>Eccentricity</th>\n",
       "      <td>4360.0</td>\n",
       "      <td>0.888720</td>\n",
       "      <td>0.020218</td>\n",
       "      <td>0.827122</td>\n",
       "      <td>0.874639</td>\n",
       "      <td>0.891996</td>\n",
       "      <td>0.903950</td>\n",
       "      <td>0.947868</td>\n",
       "    </tr>\n",
       "    <tr>\n",
       "      <th>Convex_Area</th>\n",
       "      <td>4360.0</td>\n",
       "      <td>13157.388716</td>\n",
       "      <td>1809.188381</td>\n",
       "      <td>7723.000000</td>\n",
       "      <td>11767.000000</td>\n",
       "      <td>12963.500000</td>\n",
       "      <td>14607.250000</td>\n",
       "      <td>18270.625000</td>\n",
       "    </tr>\n",
       "    <tr>\n",
       "      <th>Extent</th>\n",
       "      <td>4360.0</td>\n",
       "      <td>0.660261</td>\n",
       "      <td>0.076391</td>\n",
       "      <td>0.497413</td>\n",
       "      <td>0.597478</td>\n",
       "      <td>0.643478</td>\n",
       "      <td>0.723419</td>\n",
       "      <td>0.861050</td>\n",
       "    </tr>\n",
       "    <tr>\n",
       "      <th>Class</th>\n",
       "      <td>4360.0</td>\n",
       "      <td>0.500000</td>\n",
       "      <td>0.500057</td>\n",
       "      <td>0.000000</td>\n",
       "      <td>0.000000</td>\n",
       "      <td>0.500000</td>\n",
       "      <td>1.000000</td>\n",
       "      <td>1.000000</td>\n",
       "    </tr>\n",
       "  </tbody>\n",
       "</table>\n",
       "</div>"
      ],
      "text/plain": [
       "                    count          mean          std          min  \\\n",
       "Area               4360.0  12867.120585  1764.186450  7551.000000   \n",
       "Perimeter          4360.0    458.602620    36.052565   359.100006   \n",
       "Major_Axis_Length  4360.0    190.960333    17.631744   145.264465   \n",
       "Minor_Axis_Length  4360.0     86.666289     5.630425    71.613723   \n",
       "Eccentricity       4360.0      0.888720     0.020218     0.827122   \n",
       "Convex_Area        4360.0  13157.388716  1809.188381  7723.000000   \n",
       "Extent             4360.0      0.660261     0.076391     0.497413   \n",
       "Class              4360.0      0.500000     0.500057     0.000000   \n",
       "\n",
       "                            25%           50%           75%           max  \n",
       "Area               11507.500000  12692.884071  14269.750000  17819.250000  \n",
       "Perimeter            429.080505    456.431503    488.585998    548.445984  \n",
       "Major_Axis_Length    175.638309    191.064400    205.775114    239.010498  \n",
       "Minor_Axis_Length     83.111773     86.778309     90.553951    101.261649  \n",
       "Eccentricity           0.874639      0.891996      0.903950      0.947868  \n",
       "Convex_Area        11767.000000  12963.500000  14607.250000  18270.625000  \n",
       "Extent                 0.597478      0.643478      0.723419      0.861050  \n",
       "Class                  0.000000      0.500000      1.000000      1.000000  "
      ]
     },
     "execution_count": 17,
     "metadata": {},
     "output_type": "execute_result"
    }
   ],
   "source": [
    "df.describe().T"
   ]
  },
  {
   "cell_type": "markdown",
   "metadata": {},
   "source": [
    "Berdasarkan tabel diatas dapat dilihat bahwa data pada dataset tersebut belum berada pada range yang sama. Hal ini perlu diatasi agar model yang dihasilkan memberikan nilai evaluasi terbaik."
   ]
  },
  {
   "cell_type": "markdown",
   "metadata": {},
   "source": [
    "### >> **Feature Scaling**\n",
    "Feature Scaling akan dilakukan menggunakan metode min max scaler dimana nilai min max data akan berada dalam range yang sama."
   ]
  },
  {
   "cell_type": "code",
   "execution_count": 18,
   "metadata": {},
   "outputs": [],
   "source": [
    "\n",
    "scaler = MinMaxScaler()\n",
    "# Fitting scaler pada data dan kemudian melakukan transformasi\n",
    "df= pd.DataFrame(scaler.fit_transform(df), columns=df.columns)"
   ]
  },
  {
   "cell_type": "code",
   "execution_count": 19,
   "metadata": {},
   "outputs": [
    {
     "data": {
      "text/html": [
       "<div>\n",
       "<style scoped>\n",
       "    .dataframe tbody tr th:only-of-type {\n",
       "        vertical-align: middle;\n",
       "    }\n",
       "\n",
       "    .dataframe tbody tr th {\n",
       "        vertical-align: top;\n",
       "    }\n",
       "\n",
       "    .dataframe thead th {\n",
       "        text-align: right;\n",
       "    }\n",
       "</style>\n",
       "<table border=\"1\" class=\"dataframe\">\n",
       "  <thead>\n",
       "    <tr style=\"text-align: right;\">\n",
       "      <th></th>\n",
       "      <th>count</th>\n",
       "      <th>mean</th>\n",
       "      <th>std</th>\n",
       "      <th>min</th>\n",
       "      <th>25%</th>\n",
       "      <th>50%</th>\n",
       "      <th>75%</th>\n",
       "      <th>max</th>\n",
       "    </tr>\n",
       "  </thead>\n",
       "  <tbody>\n",
       "    <tr>\n",
       "      <th>Area</th>\n",
       "      <td>4360.0</td>\n",
       "      <td>0.517724</td>\n",
       "      <td>0.171810</td>\n",
       "      <td>0.0</td>\n",
       "      <td>0.385314</td>\n",
       "      <td>0.500756</td>\n",
       "      <td>0.654323</td>\n",
       "      <td>1.0</td>\n",
       "    </tr>\n",
       "    <tr>\n",
       "      <th>Perimeter</th>\n",
       "      <td>4360.0</td>\n",
       "      <td>0.525507</td>\n",
       "      <td>0.190406</td>\n",
       "      <td>0.0</td>\n",
       "      <td>0.369591</td>\n",
       "      <td>0.514040</td>\n",
       "      <td>0.683859</td>\n",
       "      <td>1.0</td>\n",
       "    </tr>\n",
       "    <tr>\n",
       "      <th>Major_Axis_Length</th>\n",
       "      <td>4360.0</td>\n",
       "      <td>0.487443</td>\n",
       "      <td>0.188080</td>\n",
       "      <td>0.0</td>\n",
       "      <td>0.324001</td>\n",
       "      <td>0.488553</td>\n",
       "      <td>0.645474</td>\n",
       "      <td>1.0</td>\n",
       "    </tr>\n",
       "    <tr>\n",
       "      <th>Minor_Axis_Length</th>\n",
       "      <td>4360.0</td>\n",
       "      <td>0.507711</td>\n",
       "      <td>0.189910</td>\n",
       "      <td>0.0</td>\n",
       "      <td>0.387820</td>\n",
       "      <td>0.511489</td>\n",
       "      <td>0.638838</td>\n",
       "      <td>1.0</td>\n",
       "    </tr>\n",
       "    <tr>\n",
       "      <th>Eccentricity</th>\n",
       "      <td>4360.0</td>\n",
       "      <td>0.510144</td>\n",
       "      <td>0.167439</td>\n",
       "      <td>0.0</td>\n",
       "      <td>0.393532</td>\n",
       "      <td>0.537279</td>\n",
       "      <td>0.636282</td>\n",
       "      <td>1.0</td>\n",
       "    </tr>\n",
       "    <tr>\n",
       "      <th>Convex_Area</th>\n",
       "      <td>4360.0</td>\n",
       "      <td>0.515224</td>\n",
       "      <td>0.171526</td>\n",
       "      <td>0.0</td>\n",
       "      <td>0.383404</td>\n",
       "      <td>0.496842</td>\n",
       "      <td>0.652682</td>\n",
       "      <td>1.0</td>\n",
       "    </tr>\n",
       "    <tr>\n",
       "      <th>Extent</th>\n",
       "      <td>4360.0</td>\n",
       "      <td>0.447832</td>\n",
       "      <td>0.210075</td>\n",
       "      <td>0.0</td>\n",
       "      <td>0.275180</td>\n",
       "      <td>0.401678</td>\n",
       "      <td>0.621518</td>\n",
       "      <td>1.0</td>\n",
       "    </tr>\n",
       "    <tr>\n",
       "      <th>Class</th>\n",
       "      <td>4360.0</td>\n",
       "      <td>0.500000</td>\n",
       "      <td>0.500057</td>\n",
       "      <td>0.0</td>\n",
       "      <td>0.000000</td>\n",
       "      <td>0.500000</td>\n",
       "      <td>1.000000</td>\n",
       "      <td>1.0</td>\n",
       "    </tr>\n",
       "  </tbody>\n",
       "</table>\n",
       "</div>"
      ],
      "text/plain": [
       "                    count      mean       std  min       25%       50%  \\\n",
       "Area               4360.0  0.517724  0.171810  0.0  0.385314  0.500756   \n",
       "Perimeter          4360.0  0.525507  0.190406  0.0  0.369591  0.514040   \n",
       "Major_Axis_Length  4360.0  0.487443  0.188080  0.0  0.324001  0.488553   \n",
       "Minor_Axis_Length  4360.0  0.507711  0.189910  0.0  0.387820  0.511489   \n",
       "Eccentricity       4360.0  0.510144  0.167439  0.0  0.393532  0.537279   \n",
       "Convex_Area        4360.0  0.515224  0.171526  0.0  0.383404  0.496842   \n",
       "Extent             4360.0  0.447832  0.210075  0.0  0.275180  0.401678   \n",
       "Class              4360.0  0.500000  0.500057  0.0  0.000000  0.500000   \n",
       "\n",
       "                        75%  max  \n",
       "Area               0.654323  1.0  \n",
       "Perimeter          0.683859  1.0  \n",
       "Major_Axis_Length  0.645474  1.0  \n",
       "Minor_Axis_Length  0.638838  1.0  \n",
       "Eccentricity       0.636282  1.0  \n",
       "Convex_Area        0.652682  1.0  \n",
       "Extent             0.621518  1.0  \n",
       "Class              1.000000  1.0  "
      ]
     },
     "execution_count": 19,
     "metadata": {},
     "output_type": "execute_result"
    }
   ],
   "source": [
    "df.describe().T"
   ]
  },
  {
   "cell_type": "markdown",
   "metadata": {},
   "source": [
    "### >> **Memilih nilai variabel X dan Y**\n",
    "Variabel X akan diisi dengan kolom atribut/fitur sedangkan variabel y akan diisi dengan kolom label atau dalam hal ini yaitu kolom Class"
   ]
  },
  {
   "cell_type": "code",
   "execution_count": 20,
   "metadata": {},
   "outputs": [],
   "source": [
    "# Select Attribute X and Y\n",
    "X = df.drop(columns=['Class'])\n",
    "y = df['Class']"
   ]
  },
  {
   "cell_type": "markdown",
   "metadata": {},
   "source": [
    "### >> **Splitting Data**\n",
    "Data akan dibagi dengan persentase 70% data training dan 30% data testing"
   ]
  },
  {
   "cell_type": "code",
   "execution_count": 21,
   "metadata": {},
   "outputs": [],
   "source": [
    "# Membagi data menjadi data latih dan data uji\n",
    "X_train, X_test, y_train, y_test = train_test_split(X, y, test_size=0.3, random_state=42)"
   ]
  },
  {
   "cell_type": "markdown",
   "metadata": {},
   "source": [
    "## 4. Membangun Model ANN"
   ]
  },
  {
   "cell_type": "markdown",
   "metadata": {},
   "source": [
    "*Inisialisasi Model ANN yang akan dibangun*"
   ]
  },
  {
   "cell_type": "code",
   "execution_count": 22,
   "metadata": {},
   "outputs": [],
   "source": [
    "# Inisialisasi ANN\n",
    "model_ann = Sequential()\n",
    "# Menambah input layer dan hidden layer pertama\n",
    "model_ann.add(Dense(units = 4, kernel_initializer = 'uniform', activation = 'relu', input_dim = 7))\n",
    "# Menambah hidden layer kedua\n",
    "model_ann.add(Dense(units = 4, kernel_initializer = 'uniform', activation = 'relu'))\n",
    "# Menambah output layer\n",
    "model_ann.add(Dense(units = 1, kernel_initializer = 'uniform', activation = 'sigmoid'))"
   ]
  },
  {
   "cell_type": "markdown",
   "metadata": {},
   "source": [
    "*Training Model ANN*"
   ]
  },
  {
   "cell_type": "code",
   "execution_count": 23,
   "metadata": {},
   "outputs": [
    {
     "name": "stdout",
     "output_type": "stream",
     "text": [
      "Epoch 1/100\n",
      "306/306 [==============================] - 1s 1ms/step - loss: 0.6886 - accuracy: 0.6383\n",
      "Epoch 2/100\n",
      "306/306 [==============================] - 0s 1ms/step - loss: 0.5914 - accuracy: 0.8394\n",
      "Epoch 3/100\n",
      "306/306 [==============================] - 0s 1ms/step - loss: 0.4049 - accuracy: 0.9066\n",
      "Epoch 4/100\n",
      "306/306 [==============================] - 0s 924us/step - loss: 0.2964 - accuracy: 0.9109\n",
      "Epoch 5/100\n",
      "306/306 [==============================] - 0s 855us/step - loss: 0.2489 - accuracy: 0.9168\n",
      "Epoch 6/100\n",
      "306/306 [==============================] - 0s 876us/step - loss: 0.2246 - accuracy: 0.9220\n",
      "Epoch 7/100\n",
      "306/306 [==============================] - 0s 1ms/step - loss: 0.2106 - accuracy: 0.9243\n",
      "Epoch 8/100\n",
      "306/306 [==============================] - 0s 2ms/step - loss: 0.2026 - accuracy: 0.9273\n",
      "Epoch 9/100\n",
      "306/306 [==============================] - 1s 2ms/step - loss: 0.1968 - accuracy: 0.9286\n",
      "Epoch 10/100\n",
      "306/306 [==============================] - 0s 999us/step - loss: 0.1932 - accuracy: 0.9276\n",
      "Epoch 11/100\n",
      "306/306 [==============================] - 0s 732us/step - loss: 0.1892 - accuracy: 0.9318\n",
      "Epoch 12/100\n",
      "306/306 [==============================] - 0s 858us/step - loss: 0.1878 - accuracy: 0.9299\n",
      "Epoch 13/100\n",
      "306/306 [==============================] - 0s 810us/step - loss: 0.1860 - accuracy: 0.9318\n",
      "Epoch 14/100\n",
      "306/306 [==============================] - 0s 784us/step - loss: 0.1848 - accuracy: 0.9279\n",
      "Epoch 15/100\n",
      "306/306 [==============================] - 0s 909us/step - loss: 0.1841 - accuracy: 0.9309\n",
      "Epoch 16/100\n",
      "306/306 [==============================] - 0s 832us/step - loss: 0.1839 - accuracy: 0.9305\n",
      "Epoch 17/100\n",
      "306/306 [==============================] - 0s 922us/step - loss: 0.1828 - accuracy: 0.9325\n",
      "Epoch 18/100\n",
      "306/306 [==============================] - 0s 822us/step - loss: 0.1829 - accuracy: 0.9312\n",
      "Epoch 19/100\n",
      "306/306 [==============================] - 0s 872us/step - loss: 0.1832 - accuracy: 0.9273\n",
      "Epoch 20/100\n",
      "306/306 [==============================] - 0s 778us/step - loss: 0.1824 - accuracy: 0.9302\n",
      "Epoch 21/100\n",
      "306/306 [==============================] - 0s 906us/step - loss: 0.1821 - accuracy: 0.9312\n",
      "Epoch 22/100\n",
      "306/306 [==============================] - 0s 927us/step - loss: 0.1827 - accuracy: 0.9315\n",
      "Epoch 23/100\n",
      "306/306 [==============================] - 0s 927us/step - loss: 0.1808 - accuracy: 0.9309\n",
      "Epoch 24/100\n",
      "306/306 [==============================] - 0s 930us/step - loss: 0.1817 - accuracy: 0.9315\n",
      "Epoch 25/100\n",
      "306/306 [==============================] - 0s 986us/step - loss: 0.1812 - accuracy: 0.9299\n",
      "Epoch 26/100\n",
      "306/306 [==============================] - 0s 1ms/step - loss: 0.1825 - accuracy: 0.9302\n",
      "Epoch 27/100\n",
      "306/306 [==============================] - 0s 1ms/step - loss: 0.1829 - accuracy: 0.9312\n",
      "Epoch 28/100\n",
      "306/306 [==============================] - 0s 945us/step - loss: 0.1822 - accuracy: 0.9299\n",
      "Epoch 29/100\n",
      "306/306 [==============================] - 0s 962us/step - loss: 0.1823 - accuracy: 0.9296\n",
      "Epoch 30/100\n",
      "306/306 [==============================] - 0s 1ms/step - loss: 0.1824 - accuracy: 0.9309\n",
      "Epoch 31/100\n",
      "306/306 [==============================] - 0s 883us/step - loss: 0.1819 - accuracy: 0.9302\n",
      "Epoch 32/100\n",
      "306/306 [==============================] - 0s 1ms/step - loss: 0.1821 - accuracy: 0.9312\n",
      "Epoch 33/100\n",
      "306/306 [==============================] - 0s 790us/step - loss: 0.1817 - accuracy: 0.9305\n",
      "Epoch 34/100\n",
      "306/306 [==============================] - 0s 839us/step - loss: 0.1818 - accuracy: 0.9305\n",
      "Epoch 35/100\n",
      "306/306 [==============================] - 0s 1ms/step - loss: 0.1813 - accuracy: 0.9286\n",
      "Epoch 36/100\n",
      "306/306 [==============================] - 0s 1ms/step - loss: 0.1815 - accuracy: 0.9305\n",
      "Epoch 37/100\n",
      "306/306 [==============================] - 0s 1ms/step - loss: 0.1820 - accuracy: 0.9276\n",
      "Epoch 38/100\n",
      "306/306 [==============================] - 0s 1ms/step - loss: 0.1817 - accuracy: 0.9315\n",
      "Epoch 39/100\n",
      "306/306 [==============================] - 0s 1ms/step - loss: 0.1812 - accuracy: 0.9292\n",
      "Epoch 40/100\n",
      "306/306 [==============================] - 0s 917us/step - loss: 0.1821 - accuracy: 0.9305\n",
      "Epoch 41/100\n",
      "306/306 [==============================] - 0s 1ms/step - loss: 0.1814 - accuracy: 0.9312\n",
      "Epoch 42/100\n",
      "306/306 [==============================] - 0s 844us/step - loss: 0.1815 - accuracy: 0.9296\n",
      "Epoch 43/100\n",
      "306/306 [==============================] - 0s 975us/step - loss: 0.1810 - accuracy: 0.9299\n",
      "Epoch 44/100\n",
      "306/306 [==============================] - 0s 1ms/step - loss: 0.1815 - accuracy: 0.9312\n",
      "Epoch 45/100\n",
      "306/306 [==============================] - 0s 934us/step - loss: 0.1820 - accuracy: 0.9286\n",
      "Epoch 46/100\n",
      "306/306 [==============================] - 0s 774us/step - loss: 0.1820 - accuracy: 0.9309\n",
      "Epoch 47/100\n",
      "306/306 [==============================] - 0s 1ms/step - loss: 0.1825 - accuracy: 0.9299\n",
      "Epoch 48/100\n",
      "306/306 [==============================] - 0s 1ms/step - loss: 0.1816 - accuracy: 0.9292\n",
      "Epoch 49/100\n",
      "306/306 [==============================] - 0s 878us/step - loss: 0.1819 - accuracy: 0.9312\n",
      "Epoch 50/100\n",
      "306/306 [==============================] - 0s 955us/step - loss: 0.1809 - accuracy: 0.9302\n",
      "Epoch 51/100\n",
      "306/306 [==============================] - 0s 760us/step - loss: 0.1832 - accuracy: 0.9302\n",
      "Epoch 52/100\n",
      "306/306 [==============================] - 0s 1ms/step - loss: 0.1819 - accuracy: 0.9286\n",
      "Epoch 53/100\n",
      "306/306 [==============================] - 0s 1ms/step - loss: 0.1815 - accuracy: 0.9338\n",
      "Epoch 54/100\n",
      "306/306 [==============================] - 0s 814us/step - loss: 0.1812 - accuracy: 0.9312\n",
      "Epoch 55/100\n",
      "306/306 [==============================] - 0s 1ms/step - loss: 0.1812 - accuracy: 0.9312\n",
      "Epoch 56/100\n",
      "306/306 [==============================] - 0s 916us/step - loss: 0.1812 - accuracy: 0.9305\n",
      "Epoch 57/100\n",
      "306/306 [==============================] - 0s 868us/step - loss: 0.1812 - accuracy: 0.9325\n",
      "Epoch 58/100\n",
      "306/306 [==============================] - 0s 2ms/step - loss: 0.1822 - accuracy: 0.9286\n",
      "Epoch 59/100\n",
      "306/306 [==============================] - 0s 920us/step - loss: 0.1815 - accuracy: 0.9286\n",
      "Epoch 60/100\n",
      "306/306 [==============================] - 0s 1ms/step - loss: 0.1816 - accuracy: 0.9305\n",
      "Epoch 61/100\n",
      "306/306 [==============================] - 0s 912us/step - loss: 0.1819 - accuracy: 0.9305\n",
      "Epoch 62/100\n",
      "306/306 [==============================] - 0s 1ms/step - loss: 0.1810 - accuracy: 0.9289\n",
      "Epoch 63/100\n",
      "306/306 [==============================] - 0s 883us/step - loss: 0.1818 - accuracy: 0.9305\n",
      "Epoch 64/100\n",
      "306/306 [==============================] - 0s 1ms/step - loss: 0.1815 - accuracy: 0.9325\n",
      "Epoch 65/100\n",
      "306/306 [==============================] - 0s 1ms/step - loss: 0.1814 - accuracy: 0.9309\n",
      "Epoch 66/100\n",
      "306/306 [==============================] - 0s 1ms/step - loss: 0.1820 - accuracy: 0.9299\n",
      "Epoch 67/100\n",
      "306/306 [==============================] - 0s 1ms/step - loss: 0.1818 - accuracy: 0.9305\n",
      "Epoch 68/100\n",
      "306/306 [==============================] - 0s 902us/step - loss: 0.1813 - accuracy: 0.9296\n",
      "Epoch 69/100\n",
      "306/306 [==============================] - 0s 1ms/step - loss: 0.1819 - accuracy: 0.9302\n",
      "Epoch 70/100\n",
      "306/306 [==============================] - 0s 1ms/step - loss: 0.1812 - accuracy: 0.9312\n",
      "Epoch 71/100\n",
      "306/306 [==============================] - 0s 1ms/step - loss: 0.1816 - accuracy: 0.9299\n",
      "Epoch 72/100\n",
      "306/306 [==============================] - 0s 1ms/step - loss: 0.1817 - accuracy: 0.9296\n",
      "Epoch 73/100\n",
      "306/306 [==============================] - 0s 1ms/step - loss: 0.1816 - accuracy: 0.9296\n",
      "Epoch 74/100\n",
      "306/306 [==============================] - 0s 1ms/step - loss: 0.1817 - accuracy: 0.9305\n",
      "Epoch 75/100\n",
      "306/306 [==============================] - 0s 1ms/step - loss: 0.1819 - accuracy: 0.9322\n",
      "Epoch 76/100\n",
      "306/306 [==============================] - 0s 1ms/step - loss: 0.1821 - accuracy: 0.9309\n",
      "Epoch 77/100\n",
      "306/306 [==============================] - 0s 1ms/step - loss: 0.1817 - accuracy: 0.9302\n",
      "Epoch 78/100\n",
      "306/306 [==============================] - 0s 1ms/step - loss: 0.1816 - accuracy: 0.9299\n",
      "Epoch 79/100\n",
      "306/306 [==============================] - 0s 1ms/step - loss: 0.1819 - accuracy: 0.9312\n",
      "Epoch 80/100\n",
      "306/306 [==============================] - 0s 1ms/step - loss: 0.1817 - accuracy: 0.9322\n",
      "Epoch 81/100\n",
      "306/306 [==============================] - 0s 1ms/step - loss: 0.1813 - accuracy: 0.9299\n",
      "Epoch 82/100\n",
      "306/306 [==============================] - 0s 1ms/step - loss: 0.1816 - accuracy: 0.9305\n",
      "Epoch 83/100\n",
      "306/306 [==============================] - 0s 1ms/step - loss: 0.1813 - accuracy: 0.9305\n",
      "Epoch 84/100\n",
      "306/306 [==============================] - 0s 1ms/step - loss: 0.1817 - accuracy: 0.9325\n",
      "Epoch 85/100\n",
      "306/306 [==============================] - 0s 1ms/step - loss: 0.1806 - accuracy: 0.9299\n",
      "Epoch 86/100\n",
      "306/306 [==============================] - 0s 1ms/step - loss: 0.1818 - accuracy: 0.9305\n",
      "Epoch 87/100\n",
      "306/306 [==============================] - 0s 863us/step - loss: 0.1814 - accuracy: 0.9328\n",
      "Epoch 88/100\n",
      "306/306 [==============================] - 0s 1ms/step - loss: 0.1820 - accuracy: 0.9322\n",
      "Epoch 89/100\n",
      "306/306 [==============================] - 0s 1ms/step - loss: 0.1812 - accuracy: 0.9289\n",
      "Epoch 90/100\n",
      "306/306 [==============================] - 0s 1ms/step - loss: 0.1827 - accuracy: 0.9309\n",
      "Epoch 91/100\n",
      "306/306 [==============================] - 0s 1ms/step - loss: 0.1812 - accuracy: 0.9299\n",
      "Epoch 92/100\n",
      "306/306 [==============================] - 0s 859us/step - loss: 0.1810 - accuracy: 0.9315\n",
      "Epoch 93/100\n",
      "306/306 [==============================] - 0s 886us/step - loss: 0.1821 - accuracy: 0.9296\n",
      "Epoch 94/100\n",
      "306/306 [==============================] - 0s 1ms/step - loss: 0.1816 - accuracy: 0.9318\n",
      "Epoch 95/100\n",
      "306/306 [==============================] - 0s 1ms/step - loss: 0.1821 - accuracy: 0.9318\n",
      "Epoch 96/100\n",
      "306/306 [==============================] - 0s 1ms/step - loss: 0.1819 - accuracy: 0.9305\n",
      "Epoch 97/100\n",
      "306/306 [==============================] - 0s 834us/step - loss: 0.1817 - accuracy: 0.9312\n",
      "Epoch 98/100\n",
      "306/306 [==============================] - 0s 1ms/step - loss: 0.1815 - accuracy: 0.9318\n",
      "Epoch 99/100\n",
      "306/306 [==============================] - 0s 1ms/step - loss: 0.1813 - accuracy: 0.9299\n",
      "Epoch 100/100\n",
      "306/306 [==============================] - 0s 1ms/step - loss: 0.1823 - accuracy: 0.9296\n"
     ]
    },
    {
     "data": {
      "text/plain": [
       "<keras.callbacks.History at 0x2cbcb006080>"
      ]
     },
     "execution_count": 23,
     "metadata": {},
     "output_type": "execute_result"
    }
   ],
   "source": [
    "# Meenjalankan ANN\n",
    "model_ann.compile(optimizer = 'adam', loss = 'binary_crossentropy', metrics = ['accuracy'])\n",
    "# Fitting ANN ke training set\n",
    "model_ann.fit(X_train, y_train, batch_size = 10, epochs = 100)"
   ]
  },
  {
   "cell_type": "markdown",
   "metadata": {},
   "source": [
    "*Testing Model ANN*"
   ]
  },
  {
   "cell_type": "code",
   "execution_count": 24,
   "metadata": {},
   "outputs": [
    {
     "name": "stdout",
     "output_type": "stream",
     "text": [
      "41/41 [==============================] - 0s 669us/step\n"
     ]
    },
    {
     "data": {
      "image/png": "[encoded data removed]",
      "text/plain": [
       "<Figure size 800x600 with 1 Axes>"
      ]
     },
     "metadata": {},
     "output_type": "display_data"
    }
   ],
   "source": [
    "# Memprediksi hasil test set\n",
    "y_pred = model_ann.predict(X_test)\n",
    "y_pred = (y_pred > 0.5)\n",
    "# Membuat confusion matrix\n",
    "\n",
    "cm = confusion_matrix(y_test, y_pred)\n",
    "# Plot confusion matrix\n",
    "plt.figure(figsize=(8, 6))\n",
    "sns.heatmap(cm, annot=True, fmt=\"d\", cmap=\"Blues\", cbar=False)\n",
    "plt.xlabel('Predicted Labels')\n",
    "plt.ylabel('True Labels')\n",
    "plt.title('Confusion Matrix')\n",
    "plt.show()"
   ]
  },
  {
   "cell_type": "markdown",
   "metadata": {},
   "source": [
    "*Akurasi Model ANN*"
   ]
  },
  {
   "cell_type": "code",
   "execution_count": 25,
   "metadata": {},
   "outputs": [
    {
     "name": "stdout",
     "output_type": "stream",
     "text": [
      "Nilai Akurasi dari Model Tersebut adalah 0.9243\n"
     ]
    }
   ],
   "source": [
    "# Menghitung nilai metric evaluation\n",
    "accuracy = accuracy_score(y_test, y_pred)\n",
    "print(\"Nilai Akurasi dari Model Tersebut adalah {:.4f}\".format(accuracy))"
   ]
  },
  {
   "cell_type": "markdown",
   "metadata": {},
   "source": [
    "## 5. Membangun Model SVM"
   ]
  },
  {
   "cell_type": "markdown",
   "metadata": {},
   "source": [
    "*Training dan Testing Model SVM*"
   ]
  },
  {
   "cell_type": "code",
   "execution_count": 26,
   "metadata": {},
   "outputs": [],
   "source": [
    "# Fitting classifier to the Training set\n",
    "svm_linear = SVC(kernel='linear', random_state=0) # classifier linear\n",
    "svm_non_linear = SVC(kernel='rbf') # classifier non-linear using rbf\n",
    "svm_linear.fit(X_train, y_train) # train linear\n",
    "svm_non_linear.fit(X_train, y_train)# train non-linear\n",
    "# Predicting the Test set results\n",
    "y_pred_linear = svm_linear.predict(X_test) # test linear\n",
    "y_pred_non_linear = svm_non_linear.predict(X_test) # test non-linear"
   ]
  },
  {
   "cell_type": "markdown",
   "metadata": {},
   "source": [
    "*Akurasi Model SVM*"
   ]
  },
  {
   "cell_type": "code",
   "execution_count": 27,
   "metadata": {},
   "outputs": [
    {
     "name": "stdout",
     "output_type": "stream",
     "text": [
      "Nilai Akurasi dari Model SVM linear adalah 0.9243\n",
      "Nilai Akurasi dari Model SVM non-linear adalah 0.9251\n"
     ]
    }
   ],
   "source": [
    "# Menghitung nilai metric evaluation\n",
    "accuracy_svm_linear = accuracy_score(y_test, y_pred_linear)\n",
    "accuracy_svm_non_linear = accuracy_score(y_test, y_pred_non_linear)\n",
    "print(\"Nilai Akurasi dari Model SVM linear adalah {:.4f}\".format(accuracy_svm_linear))\n",
    "print(\"Nilai Akurasi dari Model SVM non-linear adalah {:.4f}\".format(accuracy_svm_non_linear))"
   ]
  }
 ],
 "metadata": {
  "kernelspec": {
   "display_name": "myenv3",
   "language": "python",
   "name": "python3"
  },
  "language_info": {
   "codemirror_mode": {
    "name": "ipython",
    "version": 3
   },
   "file_extension": ".py",
   "mimetype": "text/x-python",
   "name": "python",
   "nbconvert_exporter": "python",
   "pygments_lexer": "ipython3",
   "version": "3.10.2"
  }
 },
 "nbformat": 4,
 "nbformat_minor": 2
}
